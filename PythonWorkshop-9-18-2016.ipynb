{
 "cells": [
  {
   "cell_type": "markdown",
   "metadata": {},
   "source": [
    "# Why do we use Python?\n",
    "1. Python is really easy to write and read( Lookin at you Perl )\n",
    "2. Python has modules which can be written in c,c++ and bound to Python\n",
    "3. YOU DONT HAVE TO COMPILE YAY - the language is interpreted\n",
    "4. Easy to get up and running\n",
    "5. WARNING PYTHON2 AND PYTHON3 ARE DIFFERENT LANGUAGES, LIKE DIFFERENT ENOUGH TO BE ANNOYING, MAKE SURE YOU KNOW WHICH ONE YOU'RE USING\n",
    "6. Python has a package manager that's friggin sweet\n",
    "    a.Pip install …\n",
    "    b. Conda install ...\n",
    "7. It's a little different from what you're coming from because python doesn't have the toolchain (editors, build scripts, build order, etc ) that you're used to, which is fine because getting your feet wet with python shouldn't be that bad.\n",
    "    a.PyCharm\n",
    "    b. Sublime Text\n",
    "    c. Vim\n",
    "    d. Emacs\n",
    "    e. **Jupyter Notebooks**\n"
   ]
  },
  {
   "cell_type": "code",
   "execution_count": null,
   "metadata": {
    "collapsed": true
   },
   "outputs": [],
   "source": []
  },
  {
   "cell_type": "markdown",
   "metadata": {},
   "source": [
    "#"
   ]
  }
 ],
 "metadata": {
  "anaconda-cloud": {},
  "kernelspec": {
   "display_name": "Python 3",
   "language": "python",
   "name": "python3"
  },
  "language_info": {
   "codemirror_mode": {
    "name": "ipython",
    "version": 3
   },
   "file_extension": ".py",
   "mimetype": "text/x-python",
   "name": "python",
   "nbconvert_exporter": "python",
   "pygments_lexer": "ipython3",
   "version": "3.5.1"
  }
 },
 "nbformat": 4,
 "nbformat_minor": 0
}
